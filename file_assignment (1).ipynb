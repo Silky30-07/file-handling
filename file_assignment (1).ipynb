{
  "nbformat": 4,
  "nbformat_minor": 0,
  "metadata": {
    "colab": {
      "provenance": []
    },
    "kernelspec": {
      "name": "python3",
      "display_name": "Python 3"
    },
    "language_info": {
      "name": "python"
    }
  },
  "cells": [
    {
      "cell_type": "markdown",
      "source": [
        "**theory question**"
      ],
      "metadata": {
        "id": "xWaHxWqThNQE"
      }
    },
    {
      "cell_type": "markdown",
      "source": [
        "ques 1 :  What is the difference between interpreted and compiled languages?\n",
        "\n",
        "The main difference between interpreted and compiled languages lies in how they are executed on a computer.\n",
        "\n",
        "Compiled Languages:\n",
        "\n",
        " The source code of a compiled language is translated entirely into machine code by a compiler before it is run.  Once compiled, the program runs directly on the hardware without needing the compiler.\n",
        "Examples: C, C++, Rust, Go.\n",
        " Typically, compiled programs are faster and more efficient in terms of performance because they are directly executed by the machine.\n",
        "\n",
        "Interpreted Languages:\n",
        "\n",
        " In interpreted languages, the source code is executed line by line by an interpreter at runtime, instead of being compiled into machine code beforehand.\n",
        "Examples: Python, JavaScript, Ruby.\n",
        " Easier to debug and modify since the code can be executed immediately without a separate compilation step. Also, interpreted code tends to be more portable because the interpreter can run on any platform.\n",
        "\n",
        "\n",
        "\n"
      ],
      "metadata": {
        "id": "GqMNPIluhNN6"
      }
    },
    {
      "cell_type": "markdown",
      "source": [
        "ques 2 : What is exception handling in Python ?\n",
        "\n",
        "Exception handling in Python is a way to manage errors or exceptional conditions that may occur during the execution of a program. Instead of letting the program crash when an error occurs, Python allows you to catch and handle those errors gracefully, providing an opportunity to fix the problem or display an error message to the user.\n",
        "\n",
        "Python uses try, except, else, and finally blocks for exception handling:\n",
        "\n",
        "try: You place the code that might raise an exception inside a try block.\n",
        "except: If an exception occurs in the try block, Python looks for a matching except block to handle the error.\n",
        "else: If no exception occurs in the try block, the code in the else block will run.\n",
        "finally: This block will run no matter what, whether an exception occurs or not. It is often used for cleanup actions, like closing files or releasing resources."
      ],
      "metadata": {
        "id": "tYjRFC1whNLQ"
      }
    },
    {
      "cell_type": "markdown",
      "source": [
        "ques 3 : What is the purpose of the finally block in exception handling ?\n",
        "\n",
        "The finally block in exception handling is used for code that must run regardless of whether an exception occurred or not. Its primary purpose is for cleanup or final actions that should be performed, such as closing files, releasing resources, or performing any necessary shutdown operations.\n",
        "\n",
        "Without the finally block, you would have to explicitly ensure that cleanup happens in every branch of your code (such as inside each except block). The finally block ensures this happens consistently, even if an exception is thrown."
      ],
      "metadata": {
        "id": "InE391NWhNIm"
      }
    },
    {
      "cell_type": "markdown",
      "source": [
        "ques 4 :  What is logging in Python ?  \n",
        "\n",
        "Logging in Python is a way to record information about the execution of a program. It helps in tracking events, errors, and warnings that occur while the program is running. The logging module in Python provides a flexible framework for logging messages at different severity levels (like debug, info, warning, error, and critical).\n",
        "\n",
        "Using logging instead of just printing messages to the console provides several benefits:\n",
        "\n",
        "You can control where the logs go (to the console, to a file, or even a remote server).\n",
        "You can set different levels of logging to capture more or less detailed information.\n",
        "You can enable or disable logging without changing the program's core logic"
      ],
      "metadata": {
        "id": "7oCPkslShNGD"
      }
    },
    {
      "cell_type": "markdown",
      "source": [
        "ques 5 :  What is the significance of the __del__ method in Python ?\n",
        "\n",
        "The __del__ method in Python is a special method that is used to define a destructor for an object. It is called when an object is about to be destroyed or garbage collected by Python. This method allows you to perform any necessary cleanup operations before the object is removed from memory, such as closing files, releasing resources, or other finalization tasks.\n",
        "\n",
        " It’s typically used for cleanup tasks, like closing open files or database connections, releasing memory, or other similar operations.\n"
      ],
      "metadata": {
        "id": "i3j-Zir3hNDd"
      }
    },
    {
      "cell_type": "markdown",
      "source": [
        "ques 6 :  What is the difference between import and from ... import in Python ?\n",
        "\n",
        "In Python, both import and from ... import are used to bring code from other modules into the current script, but they work in slightly different ways. Here's the breakdown of the differences:\n",
        "**import :**\n",
        "When you use the import statement, you import the entire module into your current script. You must then use the module name (or an alias, if you've given it one) to access the functions, classes, or variables defined in that module.\n",
        "\n",
        "**from ...import :**\n",
        "The from ... import syntax allows you to import specific functions, classes, or variables directly from a module. You don't need to reference the module name every time you want to use them—just use the imported item directly."
      ],
      "metadata": {
        "id": "DK14rEorhNAw"
      }
    },
    {
      "cell_type": "markdown",
      "source": [
        "ques 7 :  How can you handle multiple exceptions in Python ?\n",
        "\n",
        "In Python, you can handle multiple exceptions in different ways. Python allows you to catch multiple exceptions using several techniques, so you can decide how to respond to different types of errors effectively.\n",
        "\n",
        "Catch multiple exceptions together: Use a tuple of exceptions in the except block.\n",
        "\n",
        "Separate handling for different exceptions: Use multiple except blocks for different types of exceptions.\n",
        "\n",
        "Execute code if no exception occurs: Use an else block.\n",
        "\n",
        "Catch any exception: Use except Exception for generic error handling (but this should be used carefully).\n",
        "\n",
        "Ensure cleanup: Use finally to execute code no matter what."
      ],
      "metadata": {
        "id": "e6kmxcROhM8f"
      }
    },
    {
      "cell_type": "markdown",
      "source": [
        "ques 8 :  What is the purpose of the with statement when handling files in Python ?\n",
        "\n",
        "The with statement in Python is used to handle context management in a clean and efficient way, particularly when working with resources like files. It ensures that resources are properly acquired and released, making code easier to read and reducing the chances of errors.\n",
        "\n",
        "When working with files, the with statement simplifies the process by automatically handling tasks such as:\n",
        "\n",
        "* Opening the file.\n",
        "* Ensuring the file is properly closed, even if an error occurs while working with the file.\n",
        "\n",
        "This is especially useful because it avoids the need to explicitly call file.close(), which might be missed or cause issues if the program encounters an exception."
      ],
      "metadata": {
        "id": "FY4fWTLHhM2m"
      }
    },
    {
      "cell_type": "markdown",
      "source": [
        "ques 9 :  What is the difference between multithreading and multiprocessing ?\n",
        "\n",
        "Multithreading and multiprocessing are both ways to execute multiple tasks concurrently, but they differ in how they handle tasks and resources.\n",
        "\n",
        " Multithreading:\n",
        "\n",
        " In multithreading, multiple threads run within a single process. Threads are smaller units of a process that share the same memory space, meaning they can communicate easily with each other.\n",
        "\n",
        "Multiprocessing:\n",
        "\n",
        "In multiprocessing, each task runs in its own separate process, with its own memory space. Processes are independent and do not share memory directly.\n"
      ],
      "metadata": {
        "id": "wyDiE__WhMwd"
      }
    },
    {
      "cell_type": "markdown",
      "source": [
        "ques 10 : What are the advantages of using logging in a program ?\n",
        "\n",
        "Using logging in a program provides several important advantages over using simple print() statements for tracking and debugging. Logging offers a more powerful, flexible, and structured way to capture events and errors during the execution of your code. Here are the key benefits of using logging.\n",
        "\n",
        "Using logging in your program has several advantages:\n",
        "\n",
        "It provides a structured and flexible way to track events, errors, and important program states.\n",
        "\n",
        "It supports multiple log levels and handlers for different use cases.\n",
        "\n",
        "It ensures better debugging, maintenance, and monitoring, especially in production environments.\n",
        "\n",
        "It helps keep the codebase clean by separating logging from the main program logic."
      ],
      "metadata": {
        "id": "Jn297IjazGdv"
      }
    },
    {
      "cell_type": "markdown",
      "source": [
        "ques 11 : What is memory management in Python ?\n",
        "\n",
        "Memory management in Python refers to the way Python handles memory allocation for objects and data structures, and how it automatically manages the release of memory when objects are no longer needed. Python abstracts much of this process away from the developer, but it's still important to understand how Python manages memory to optimize your programs and avoid issues such as memory leaks.\n",
        "\n",
        "Automatic Memory Management: Python automatically handles memory allocation and deallocation using reference counting and garbage collection.\n",
        "\n",
        "Garbage Collection: Python’s garbage collector cleans up unreachable objects, including handling circular references.\n",
        "\n",
        "Memory Allocation: Python allocates memory for objects and data types in an efficient manner, using different strategies for small and large objects.\n",
        "\n",
        "Memory Leaks: Memory leaks can still happen, especially in complex reference patterns, but Python's garbage collector can handle most cases.\n",
        "\n",
        "Efficient Memory Usage: Python optimizes memory usage through techniques like object interning and dynamic resizing of containers."
      ],
      "metadata": {
        "id": "14scuIY70zwW"
      }
    },
    {
      "cell_type": "markdown",
      "source": [
        "ques 12 : What are the basic steps involved in exception handling in Python\n",
        "\n",
        "Exception handling in Python involves managing errors or exceptional situations that can arise during program execution, allowing the program to continue running or fail gracefully instead of crashing.\n",
        "\n",
        "The basic steps involved in exception handling are:\n",
        "\n",
        "try block: Code that may raise an exception.\n",
        "\n",
        "except block: Handles the exception if it occurs.\n",
        "\n",
        "else block: Executes if no exception occurs (optional).\n",
        "\n",
        "finally block: Executes no matter what (optional, often used for cleanup)."
      ],
      "metadata": {
        "id": "ymYPKCmnzGjR"
      }
    },
    {
      "cell_type": "markdown",
      "source": [
        "ques 13 :  Why is memory management important in Python ?\n",
        "\n",
        "Memory management is a critical aspect of programming, and it plays a particularly important role in Python for several reasons:\n",
        "\n",
        "Efficient Resource Usage: Reduces unnecessary memory consumption, leading to better performance and resource utilization.\n",
        "\n",
        "Avoiding Memory Leaks: Prevents memory from being wasted by objects that are no longer needed.\n",
        "\n",
        "Garbage Collection: Python’s garbage collection helps automate memory cleanup, but developers should understand how it works to avoid common pitfalls like circular references.\n",
        "\n",
        "Performance Optimization: Good memory management practices lead to faster and more responsive programs.\n",
        "\n",
        "Handling Large Datasets: Allows for processing large datasets without overwhelming system memory.\n",
        "\n",
        "Object Creation and Destruction: Ensures that memory is allocated and deallocated efficiently as objects come and go.\n",
        "\n",
        "Memory Fragmentation: Reduces the risk of memory fragmentation, making large memory allocations possible.\n",
        "\n",
        "Profiling and Debugging: Helps developers monitor and fix memory usage issues during development.\n",
        "\n",
        "External Library Compatibility: Works well with libraries that require manual memory management or deal with memory-intensive operations.\n",
        "\n",
        "In conclusion, memory management in Python is vital for writing efficient, scalable, and robust programs. It helps ensure that your code uses memory resources optimally, avoids crashes, and performs well even with large datasets or on systems with limited resources.\n",
        "\n",
        "\n",
        "\n",
        "\n",
        "\n",
        "\n"
      ],
      "metadata": {
        "id": "QaULYnPH2RZ1"
      }
    },
    {
      "cell_type": "markdown",
      "source": [
        "ques 14 :  What is the role of try and except in exception handling ?\n",
        "\n",
        "In Python's exception handling mechanism, the try and except blocks play key roles in managing errors (or exceptions) that may arise during the execution of your program.\n",
        "\n",
        "***try block : ***\n",
        "The try block is where you place the code that you think may raise an exception during execution. When Python encounters a try block, it attempts to execute all the code within it. If no exceptions are raised during the execution, the code will run as expected.\n",
        "\n",
        "**except block:**\n",
        "The except block is used to handle specific exceptions that might arise in the try block. When an exception is raised, Python will look for an except block that matches the type of the exception and will execute the code inside that block"
      ],
      "metadata": {
        "id": "_b4kR4b02RWd"
      }
    },
    {
      "cell_type": "markdown",
      "source": [
        "ques 15 :  How does Python's garbage collection system work ?\n",
        "\n",
        "Python's garbage collection system is an automatic memory management mechanism designed to reclaim memory used by objects that are no longer in use, preventing memory leaks and optimizing resource utilization. The goal is to ensure that objects which are no longer referenced are safely deallocated and their memory is freed up, without requiring manual intervention by the programmer.\n",
        "\n",
        "Python uses reference counting to track the number of references to objects.\n",
        "\n",
        "When an object’s reference count drops to zero, Python will automatically delete it and reclaim the memory.\n",
        "\n",
        "Python uses generational garbage collection to optimize the collection of objects. Objects are categorized into generations, and younger objects are collected more frequently.\n",
        "\n",
        "The garbage collection module provides functionality to interact with and control the garbage collection process.\n",
        "\n",
        "Python’s garbage collection system also handles circular references, which reference counting alone cannot manage."
      ],
      "metadata": {
        "id": "ZS8nF4jL2RUJ"
      }
    },
    {
      "cell_type": "markdown",
      "source": [
        "ques 16 :  What is the purpose of the else block in exception handling ?\n",
        "\n",
        "The else block in Python's exception handling mechanism is an optional part of the try-except structure. It plays a specific role by allowing you to define code that should only be executed if no exceptions are raised in the try block. Essentially, it helps separate the normal execution flow from the error-handling logic.\n",
        "\n",
        "purpose of else block in exception handling:\n",
        "\n",
        "The else block is executed only if no exception is raised in the try block.\n",
        "\n",
        "It allows you to write code that should run when the try block completes successfully (i.e., without exceptions).\n",
        "\n",
        "It keeps your exception-handling code clean and organized by allowing you to separate normal execution from error handling.\n",
        "\n"
      ],
      "metadata": {
        "id": "Nk_X4_4w2RQV"
      }
    },
    {
      "cell_type": "markdown",
      "source": [
        "ques 17 :  What are the common logging levels in Python?\n",
        "\n",
        "In Python, the logging module provides a way to track events and record log messages at different severity levels. The logging levels are used to indicate the severity of the events being logged, helping you control the output and focus on important messages based on the logging level set.\n",
        "\n",
        "the common logging levels in Python, ordered from least severe to most severe:\n",
        "\n",
        "Use DEBUG for development and debugging purposes.\n",
        "Use INFO to log significant program events.\n",
        "Use WARNING when something unexpected happens but the program continues running.\n",
        "Use ERROR when a problem arises that affects functionality.\n",
        "Use CRITICAL for severe issues that require immediate attention."
      ],
      "metadata": {
        "id": "If1R87aR2RMA"
      }
    },
    {
      "cell_type": "markdown",
      "source": [
        "ques 18 : What is the difference between os.fork() and multiprocessing in Python ?\n",
        "\n",
        "The difference between os.fork() and multiprocessing in Python lies primarily in the approach to process creation, platform compatibility, control over processes, and how they handle parallelism.\n",
        "\n",
        "**os.fork()** is a system call that creates a child process by duplicating the current (parent) process. It is a low-level, OS-level operation that is available only on Unix-like systems (Linux, macOS).\n",
        "\n",
        "**The multiprocessing** module is a high-level API that allows you to create and manage processes easily across platforms (both Windows and Unix-like systems). It is part of Python’s standard library and provides tools for parallel execution, including process pools, shared memory, queues, and more.\n"
      ],
      "metadata": {
        "id": "gM6JXtkJ2RKH"
      }
    },
    {
      "cell_type": "markdown",
      "source": [
        "ques 19 :  What is the importance of closing a file in Python ?\n",
        "\n",
        "Closing a file in Python is important for several reasons, and it plays a crucial role in resource management and program efficiency.\n",
        "\n",
        "Resources are released back to the system.\n",
        "\n",
        "Data is written and flushed to the disk properly.\n",
        "\n",
        "File access conflicts are avoided.\n",
        "\n",
        "The file is not left in a corrupted state.\n",
        "\n",
        "While you can manually close a file using file.close(), it’s recommended to use the with statement whenever possible, as it ensures the file is closed automatically, making your code cleaner, safer, and more reliable."
      ],
      "metadata": {
        "id": "pGkXXr6T2Q4h"
      }
    },
    {
      "cell_type": "markdown",
      "source": [
        "ques 20 : What is the difference between file.read() and file.readline() in Python ?\n",
        "\n",
        "In Python, both file.read() and file.readline() are methods used to read data from a file, but they function in different ways. Here's a breakdown of the key differences:\n",
        "\n",
        "**Use file.read()** if you want to read the entire content of the file at once (small files or when the file fits comfortably into memory).\n",
        "\n",
        "**Use file.readline()** when you want to process the file line by line, especially for large files where memory usage is a concern."
      ],
      "metadata": {
        "id": "8xIezsMv2QwL"
      }
    },
    {
      "cell_type": "markdown",
      "source": [
        "ques 21 :  What is the logging module in Python used for ?\n",
        "\n",
        "The logging module in Python is used for tracking events that happen during the execution of a program. It allows you to generate log messages, which can be extremely helpful for monitoring, debugging, and understanding how your application behaves over time.\n",
        "\n",
        "The logging module provides a flexible framework for logging messages at various severity levels (e.g., DEBUG, INFO, WARNING, ERROR, CRITICAL), and it can be configured to record these messages in different formats and send them to various outputs (such as the console, files, remote servers, etc.)."
      ],
      "metadata": {
        "id": "7qsSFu3Z2Qmo"
      }
    },
    {
      "cell_type": "markdown",
      "source": [
        "ques 22 : What is the os module in Python used for in file handling ?\n",
        "\n",
        "\n",
        "The os module in Python is used for interacting with the operating system and performing various file handling tasks, such as file and directory manipulation, path handling, and working with environment variables.\n",
        "\n",
        "Here are some common functions from the os module related to file handling:\n",
        "\n",
        "os.rename(): Rename a file or directory.\n",
        "\n",
        "os.remove(): Delete a file.\n",
        "\n",
        "os.rmdir(): Remove an empty directory.\n",
        "\n",
        "os.mkdir(): Create a new directory.\n",
        "\n",
        "os.makedirs(): Create a directory and any necessary parent directories."
      ],
      "metadata": {
        "id": "p4MfOUT12QZD"
      }
    },
    {
      "cell_type": "markdown",
      "source": [
        "ques 23 :  What are the challenges associated with memory management in Python ?\n",
        "\n",
        "Memory management in Python can be tricky due to several factors, especially since Python is a high-level language that handles a lot of things automatically, like garbage collection and dynamic memory allocation.\n",
        "\n",
        "some challenges associated with memory management:\n",
        "\n",
        " **Automatic Garbage Collection:**\n",
        "\n",
        " Python uses automatic garbage collection to free up memory. This means that unused objects are automatically destroyed, but it’s not always perfect.\n",
        "\n",
        " *** Memory Overhead:***\n",
        "\n",
        " Python objects often have a higher memory overhead compared to other languages (like C or C++) due to its dynamic nature. Each object in Python is a container with extra information (such as reference count and type info), which means even simple objects can consume more memory.\n",
        "\n",
        "**Memory Fragmentation :**\n",
        "\n",
        "The dynamic nature of Python’s memory allocation can cause fragmentation, especially when objects of various sizes are frequently allocated and deallocated. The Python memory allocator may not always find perfectly aligned free blocks to allocate new objects, which can lead to inefficient memory usage\n",
        "\n",
        "**Memory Leaks from Third-Party Libraries:**\n",
        "\n",
        " Sometimes, memory leaks are not due to Python’s own garbage collection, but rather due to bugs in third-party libraries or bindings to C code (like NumPy or other C-extension modules). These libraries might not manage memory properly, leading to resource leaks.\n",
        "\n",
        " **Large Objects and Data Structures:**\n",
        "\n",
        " Managing large objects (e.g., large lists or dictionaries) can be difficult, as Python’s default data structures (like lists and dictionaries) can be memory-inefficient for very large datasets.\n",
        "\n"
      ],
      "metadata": {
        "id": "-U5WiI9u2P1z"
      }
    },
    {
      "cell_type": "markdown",
      "source": [
        "ques 24 :  How do you raise an exception manually in Python?\n",
        "\n",
        "In Python, you can raise an exception manually using the raise statement. This is useful when you want to signal that something went wrong in your program and handle the error gracefully.\n",
        "\n",
        "use raise followed by an exception to manually trigger an error.\n",
        "You can raise built-in exceptions (like ValueError, TypeError, etc.) or custom exceptions.\n",
        "Custom exceptions are defined by subclassing Exception."
      ],
      "metadata": {
        "id": "MSIxjlsmtUCh"
      }
    },
    {
      "cell_type": "markdown",
      "source": [
        "ques 25 :  Why is it important to use multithreading in certain applications?\n",
        "\n",
        "Using multithreading in certain applications can be crucial for improving performance, resource utilization, and responsiveness.\n",
        "\n",
        " **Improved Performance in I/O-Bound Applications:**\n",
        "\n",
        "I/O-bound tasks involve waiting for external resources (e.g., reading from disk, making network requests, or interacting with databases). Since these tasks spend a lot of time waiting.\n",
        "\n",
        "***Better CPU Utilization in Multi-core Systems: ***\n",
        "\n",
        "Multithreading enables parallel execution of tasks, which can leverage multiple CPU cores effectively. On multi-core systems, threading can allow different parts of a program to run simultaneously on different cores, improving overall efficiency.\n",
        "\n",
        "**Responsiveness in User Interface (UI) Applications:**\n",
        "\n",
        "In GUI applications, such as desktop apps or web servers, long-running operations (like data processing or fetching data from the web) can cause the user interface to freeze if run on the main thread. By using a separate thread for these operations, you can keep the UI responsive, allowing the user to interact with the program while background tasks are running.\n"
      ],
      "metadata": {
        "id": "EJlnQgLXt4Zn"
      }
    },
    {
      "cell_type": "markdown",
      "source": [
        "# ***pratical question ***"
      ],
      "metadata": {
        "id": "JptndnwRu-Dr"
      }
    },
    {
      "cell_type": "code",
      "source": [
        "#ques 1 :  How can you open a file for writing in Python and write a string to it?\n",
        "\n",
        "\n",
        "with open('example.txt', 'w') as file:\n",
        "    file.write(\"Hello, world! This is a test string.\\n\")\n",
        "    print(\"This is a new day\")\n"
      ],
      "metadata": {
        "colab": {
          "base_uri": "https://localhost:8080/"
        },
        "id": "HOUZO8Ym-eAD",
        "outputId": "06f07f16-08c8-4cc9-ed32-3f3c1836a378"
      },
      "execution_count": 4,
      "outputs": [
        {
          "output_type": "stream",
          "name": "stdout",
          "text": [
            "This is a new day\n"
          ]
        }
      ]
    },
    {
      "cell_type": "code",
      "source": [
        "# ques 2 : Write a Python program to read the contents of a file and print each line\n",
        "\n",
        "with open('example.txt', 'r') as file:\n",
        "    for line in file:\n",
        "        print(line, end=\" \")"
      ],
      "metadata": {
        "colab": {
          "base_uri": "https://localhost:8080/"
        },
        "id": "w9og-X2Pw19J",
        "outputId": "c52d82f8-d741-4b19-ced9-d408445334fe"
      },
      "execution_count": 52,
      "outputs": [
        {
          "output_type": "stream",
          "name": "stdout",
          "text": [
            "Hello, world! This is a test string.\n",
            " "
          ]
        }
      ]
    },
    {
      "cell_type": "code",
      "source": [
        "# ques 3  How would you handle a case where the file doesn't exist while trying to open it for reading\n",
        "\n",
        "def read_file(file_path):\n",
        "    try:\n",
        "        with open(file_path, 'r') as file:\n",
        "            content = file.read()\n",
        "            print(content)\n",
        "    except FileNotFoundError:\n",
        "        print(f\"Error: The file '{file_path}' does not exist.\")\n",
        "    except IOError:\n",
        "        print(f\"Error: An unexpected I/O error occurred while accessing '{file_path}'.\")\n",
        "file_path = 'non_existent_file.txt'\n",
        "read_file(file_path)\n"
      ],
      "metadata": {
        "colab": {
          "base_uri": "https://localhost:8080/"
        },
        "id": "tr367BKTvUvE",
        "outputId": "75e61472-80a1-414d-a55f-c3dc267393f1"
      },
      "execution_count": 54,
      "outputs": [
        {
          "output_type": "stream",
          "name": "stdout",
          "text": [
            "Error: The file 'non_existent_file.txt' does not exist.\n"
          ]
        }
      ]
    },
    {
      "cell_type": "code",
      "source": [
        "# ques 4 : Write a Python script that reads from one file and writes its content to another file\n",
        "\n",
        "try:\n",
        "    with open('source.txt', 'r') as source_file:\n",
        "        with open('destination.txt', 'w') as destination_file:\n",
        "            content = source_file.read()\n",
        "            destination_file.write(content)\n",
        "    print(\"Content has been copied successfully.\")\n",
        "\n",
        "except FileNotFoundError:\n",
        "    print(\"Error: One of the files doesn't exist.\")\n",
        "except IOError as e:\n",
        "    print(f\"An error occurred: {e}\")\n",
        "source_file = 'source.txt'\n",
        "destination_file = 'destination.txt'\n",
        "copy_file_content(source_file, destination_file)"
      ],
      "metadata": {
        "colab": {
          "base_uri": "https://localhost:8080/"
        },
        "id": "TIfgsKgiw10F",
        "outputId": "9a3bcb8d-06ff-4172-8995-fdf988e7a39b"
      },
      "execution_count": 65,
      "outputs": [
        {
          "output_type": "stream",
          "name": "stdout",
          "text": [
            "Error: One of the files doesn't exist.\n",
            "Error: The file 'source.txt' does not exist.\n"
          ]
        }
      ]
    },
    {
      "cell_type": "code",
      "source": [
        "# ques 5  How would you catch and handle division by zero error in Python\n",
        "\n",
        "try:\n",
        "    numerator = 10\n",
        "    denominator = 0\n",
        "    result = numerator / denominator\n",
        "    print(f\"Result: {result}\")\n",
        "\n",
        "except ZeroDivisionError:\n",
        "    print(\"Error: Cannot divide by zero!\")\n"
      ],
      "metadata": {
        "colab": {
          "base_uri": "https://localhost:8080/"
        },
        "id": "szTGgB7lw1xa",
        "outputId": "d67542f9-b8f7-4b68-f175-77d244650fa0"
      },
      "execution_count": 66,
      "outputs": [
        {
          "output_type": "stream",
          "name": "stdout",
          "text": [
            "Error: Cannot divide by zero!\n"
          ]
        }
      ]
    },
    {
      "cell_type": "code",
      "source": [
        "# ques 6  Write a Python program that logs an error message to a log file when a division by zero exception occurs\n",
        "\n",
        "import logging\n",
        "logging.basicConfig(filename='error_log.txt',\n",
        "                    level=logging.ERROR,\n",
        "                    format='%(asctime)s - %(levelname)s - %(message)s')\n",
        "\n",
        "try:\n",
        "    numerator = 10\n",
        "    denominator = 0\n",
        "    result = numerator / denominator\n",
        "    print(f\"Result: {result}\")\n",
        "\n",
        "except ZeroDivisionError as e:\n",
        "    logging.error(f\"Division by zero error: {e}\")\n",
        "    print(\"Error: Cannot divide by zero! The error has been logged.\")\n"
      ],
      "metadata": {
        "colab": {
          "base_uri": "https://localhost:8080/"
        },
        "id": "Ztjivyddw1uo",
        "outputId": "1fabf374-e83c-41d9-b699-53941c6c8c1c"
      },
      "execution_count": null,
      "outputs": [
        {
          "output_type": "stream",
          "name": "stderr",
          "text": [
            "ERROR:root:Division by zero error: division by zero\n"
          ]
        },
        {
          "output_type": "stream",
          "name": "stdout",
          "text": [
            "Error: Cannot divide by zero! The error has been logged.\n"
          ]
        }
      ]
    },
    {
      "cell_type": "code",
      "source": [
        "# ques 7 How do you log information at different levels (INFO, ERROR, WARNING) in Python using the logging module\n",
        "\n",
        "import logging\n",
        "logging.basicConfig(filename='app.log',\n",
        "                    level=logging.DEBUG,  # Minimum level to log\n",
        "                    format='%(asctime)s - %(levelname)s - %(message)s')\n",
        "logging.debug(\"This is a debug message.\")\n",
        "logging.info(\"This is an informational message.\")\n",
        "logging.warning(\"This is a warning message.\")\n",
        "logging.error(\"This is an error message.\")\n",
        "logging.critical(\"This is a critical error message.\")\n"
      ],
      "metadata": {
        "colab": {
          "base_uri": "https://localhost:8080/"
        },
        "id": "n0wXwWkDw1rr",
        "outputId": "890c85c1-1dad-4147-916a-01f775481b2c"
      },
      "execution_count": null,
      "outputs": [
        {
          "output_type": "stream",
          "name": "stderr",
          "text": [
            "WARNING:root:This is a warning message.\n",
            "ERROR:root:This is an error message.\n",
            "CRITICAL:root:This is a critical error message.\n"
          ]
        }
      ]
    },
    {
      "cell_type": "code",
      "source": [
        "# ques 8 Write a program to handle a file opening error using exception handling\n",
        "def open_file(file_path):\n",
        "    try:\n",
        "        with open(file_path, 'r') as file:\n",
        "            content = file.read()\n",
        "            print(\"File content:\")\n",
        "            print(content)\n",
        "\n",
        "    except FileNotFoundError:\n",
        "        print(f\"Error: The file '{file_path}' was not found.\")\n",
        "\n",
        "    except PermissionError:\n",
        "        print(f\"Error: You do not have permission to open the file '{file_path}'.\")\n",
        "\n",
        "    except IOError as e:\n",
        "        print(f\"Error: An unexpected I/O error occurred: {str(e)}\")\n",
        "file_path = 'example.txt'\n",
        "open_file(file_path)\n"
      ],
      "metadata": {
        "colab": {
          "base_uri": "https://localhost:8080/"
        },
        "id": "Io3s24fMzecz",
        "outputId": "f9677b8a-3b5c-4f87-e1b9-e733856093dc"
      },
      "execution_count": 69,
      "outputs": [
        {
          "output_type": "stream",
          "name": "stdout",
          "text": [
            "File content:\n",
            "Hello, world! This is a test string.\n",
            "\n"
          ]
        }
      ]
    },
    {
      "cell_type": "code",
      "source": [
        "# ques 9  How can you read a file line by line and store its content in a list in Python\n",
        "\n",
        "try:\n",
        "    with open('example.txt', 'r') as file:\n",
        "        lines = file.readlines()\n",
        "    print(lines)\n",
        "\n",
        "except FileNotFoundError:\n",
        "    print(\"Error: The file 'example.txt' does not exist.\")\n"
      ],
      "metadata": {
        "colab": {
          "base_uri": "https://localhost:8080/"
        },
        "id": "U4CM3R5hw1lX",
        "outputId": "8f59f01a-e737-4c62-9827-7d1048043989"
      },
      "execution_count": null,
      "outputs": [
        {
          "output_type": "stream",
          "name": "stdout",
          "text": [
            "['Hello, world! this is a new day']\n"
          ]
        }
      ]
    },
    {
      "cell_type": "code",
      "source": [
        "# ques 10  How can you append data to an existing file in Python\n",
        "\n",
        "try:\n",
        "    with open('example.txt', 'a') as file:\n",
        "        file.write(\"This is the new line of text that is appended.\\n\")\n",
        "        print(\"Data has been appended to the file.\")\n",
        "except Exception as e:\n",
        "    print(f\"Error: {e}\")\n"
      ],
      "metadata": {
        "colab": {
          "base_uri": "https://localhost:8080/"
        },
        "id": "zLFY3cRn97xD",
        "outputId": "792b0007-9b63-4e4d-8db2-89e74e75bc6c"
      },
      "execution_count": null,
      "outputs": [
        {
          "output_type": "stream",
          "name": "stdout",
          "text": [
            "Data has been appended to the file.\n"
          ]
        }
      ]
    },
    {
      "cell_type": "code",
      "source": [
        "# ques11 Write a Python program that uses a try-except block to handle an error when attempting to access a dictionary key that doesn't exist\n",
        "\n",
        "\n",
        "my_dict = {\n",
        "    'name': 'Neha',\n",
        "    'age': 22\n",
        "}\n",
        "\n",
        "try:\n",
        "    value = my_dict['address']\n",
        "    print(f\"Address: {value}\")\n",
        "except KeyError:\n",
        "    print(\"Error: The key 'address' does not exist in the dictionary.\")\n"
      ],
      "metadata": {
        "id": "u_atvh9497ty",
        "colab": {
          "base_uri": "https://localhost:8080/"
        },
        "outputId": "c13fbee3-c66c-4564-9d64-ef48a6df4a8e"
      },
      "execution_count": 8,
      "outputs": [
        {
          "output_type": "stream",
          "name": "stdout",
          "text": [
            "Error: The key 'address' does not exist in the dictionary.\n"
          ]
        }
      ]
    },
    {
      "cell_type": "code",
      "source": [
        "# ques12  Write a program that demonstrates using multiple except blocks to handle different types of exceptions\n",
        "\n",
        "def demo_multiple_exceptions():\n",
        "    try:\n",
        "        num = 10\n",
        "        denom = 0\n",
        "        result = num / denom\n",
        "        print(f\"Result of division: {result}\")\n",
        "\n",
        "    except ZeroDivisionError:\n",
        "        print(\"Error: Cannot divide by zero!\")\n",
        "\n",
        "    try:\n",
        "        invalid_int = int(\"abc\")\n",
        "        print(f\"Converted integer: {invalid_int}\")\n",
        "\n",
        "    except ValueError:\n",
        "        print(\"Error: Invalid input! Cannot convert string to integer.\")\n",
        "\n",
        "    try:\n",
        "        with open('non_existent_file.txt', 'r') as file:\n",
        "            content = file.read()\n",
        "            print(content)\n",
        "\n",
        "    except FileNotFoundError:\n",
        "        print(\"Error: The file does not exist.\")\n",
        "demo_multiple_exceptions()\n"
      ],
      "metadata": {
        "id": "drK5DBrH97pB",
        "colab": {
          "base_uri": "https://localhost:8080/"
        },
        "outputId": "e013ba40-bea0-40d8-8831-21de43195ebc"
      },
      "execution_count": 10,
      "outputs": [
        {
          "output_type": "stream",
          "name": "stdout",
          "text": [
            "Error: Cannot divide by zero!\n",
            "Error: Invalid input! Cannot convert string to integer.\n",
            "Error: The file does not exist.\n"
          ]
        }
      ]
    },
    {
      "cell_type": "code",
      "source": [
        "#ques13 How would you check if a file exists before attempting to read it in Python\n",
        "\n",
        "import os\n",
        "\n",
        "# File path to check\n",
        "file_path = 'example.txt'\n",
        "\n",
        "# Check if the file exists\n",
        "if os.path.exists(file_path):\n",
        "    with open(file_path, 'r') as file:\n",
        "        content = file.read()\n",
        "        print(content)\n",
        "else:\n",
        "    print(f\"Error: The file '{file_path}' does not exist.\")\n"
      ],
      "metadata": {
        "id": "shkcc56m97lr",
        "colab": {
          "base_uri": "https://localhost:8080/"
        },
        "outputId": "6388a46f-3130-45db-cfbf-13aabec86ad6"
      },
      "execution_count": 73,
      "outputs": [
        {
          "output_type": "stream",
          "name": "stdout",
          "text": [
            "Hello, world! This is a test string.\n",
            "This is a new line of text.\n",
            "\n"
          ]
        }
      ]
    },
    {
      "cell_type": "code",
      "source": [
        "# ques 14 Write a program that uses the logging module to log both informational and error messages\n",
        "\n",
        "import logging\n",
        "\n",
        "# Configure the logging settings\n",
        "logging.basicConfig(\n",
        "    level=logging.DEBUG,  # Log all messages from DEBUG and above\n",
        "    format='%(asctime)s - %(levelname)s - %(message)s',  # Log format\n",
        "    handlers=[\n",
        "        logging.StreamHandler()  # Print logs to the console\n",
        "    ]\n",
        ")\n",
        "\n",
        "# Log an informational message\n",
        "logging.info(\"This is an informational message.\")\n",
        "\n",
        "# Simulate an error and log it\n",
        "try:\n",
        "    result = 10 / 0  # This will raise a ZeroDivisionError\n",
        "except ZeroDivisionError as e:\n",
        "    logging.error(f\"An error occurred: {e}\")\n",
        "\n",
        "# Another example of logging an informational message\n",
        "logging.info(\"Program execution continues after the error.\")\n"
      ],
      "metadata": {
        "id": "UFTvapUt97fx",
        "colab": {
          "base_uri": "https://localhost:8080/"
        },
        "outputId": "87b1355e-aa63-45b6-90a0-2ae23b623bfe"
      },
      "execution_count": 17,
      "outputs": [
        {
          "output_type": "stream",
          "name": "stderr",
          "text": [
            "ERROR:root:An error occurred: division by zero\n"
          ]
        }
      ]
    },
    {
      "cell_type": "code",
      "source": [
        "# ques15  Write a Python program that prints the content of a file and handles the case when the file is empty\n",
        "\n",
        "def print_file_content(file_path):\n",
        "    try:\n",
        "        with open(file_path, 'r') as file:\n",
        "            content = file.read()\n",
        "            if not content:\n",
        "                print(\"The file is empty.\")\n",
        "            else:\n",
        "                print(\"File Content:\")\n",
        "                print(content)\n",
        "\n",
        "    except FileNotFoundError:\n",
        "        print(f\"Error: The file '{file_path}' does not exist.\")\n",
        "    except IOError:\n",
        "        print(\"Error: An unexpected I/O error occurred.\")\n",
        "file_path = 'example.txt'\n",
        "print_file_content(file_path)\n"
      ],
      "metadata": {
        "id": "3k0Uh0Mz97aX",
        "colab": {
          "base_uri": "https://localhost:8080/"
        },
        "outputId": "4645e466-3566-4e28-e70c-c394631104e2"
      },
      "execution_count": 20,
      "outputs": [
        {
          "output_type": "stream",
          "name": "stdout",
          "text": [
            "File Content:\n",
            "Hello, world! This is a test string.\n",
            "\n"
          ]
        }
      ]
    },
    {
      "cell_type": "code",
      "source": [
        "# ques 16  Demonstrate how to use memory profiling to check the memory usage of a small program\n",
        "\n",
        "# memory_usage_example.py\n",
        "!pip install memory_profiler\n",
        "from memory_profiler import profile\n",
        "\n",
        "@profile\n",
        "def my_function():\n",
        "    a = [1] * (10**6)  # Create a large list\n",
        "    b = [2] * (2 * 10**7)  # Create an even larger list\n",
        "    del b  # Delete b to free memory\n",
        "    return a\n",
        "\n",
        "if __name__ == '__main__':\n",
        "    my_function()\n"
      ],
      "metadata": {
        "id": "fZDXPmo397OT",
        "colab": {
          "base_uri": "https://localhost:8080/"
        },
        "outputId": "a8e6ac53-cc02-49c1-a4b1-8325b4209f77"
      },
      "execution_count": 23,
      "outputs": [
        {
          "output_type": "stream",
          "name": "stdout",
          "text": [
            "Collecting memory_profiler\n",
            "  Downloading memory_profiler-0.61.0-py3-none-any.whl.metadata (20 kB)\n",
            "Requirement already satisfied: psutil in /usr/local/lib/python3.11/dist-packages (from memory_profiler) (5.9.5)\n",
            "Downloading memory_profiler-0.61.0-py3-none-any.whl (31 kB)\n",
            "Installing collected packages: memory_profiler\n",
            "Successfully installed memory_profiler-0.61.0\n"
          ]
        },
        {
          "output_type": "stream",
          "name": "stderr",
          "text": [
            "\n",
            "PYDEV DEBUGGER WARNING:\n",
            "sys.settrace() should not be used when the debugger is being used.\n",
            "This may cause the debugger to stop working correctly.\n",
            "If this is needed, please check: \n",
            "http://pydev.blogspot.com/2007/06/why-cant-pydev-debugger-work-with.html\n",
            "to see how to restore the debug tracing back correctly.\n",
            "Call Location:\n",
            "  File \"/usr/local/lib/python3.11/dist-packages/memory_profiler.py\", line 847, in enable\n",
            "    sys.settrace(self.trace_memory_usage)\n",
            "\n"
          ]
        },
        {
          "output_type": "stream",
          "name": "stdout",
          "text": [
            "ERROR: Could not find file <ipython-input-23-45be7eb8c624>\n",
            "NOTE: %mprun can only be used on functions defined in physical files, and not in the IPython environment.\n"
          ]
        },
        {
          "output_type": "stream",
          "name": "stderr",
          "text": [
            "\n",
            "PYDEV DEBUGGER WARNING:\n",
            "sys.settrace() should not be used when the debugger is being used.\n",
            "This may cause the debugger to stop working correctly.\n",
            "If this is needed, please check: \n",
            "http://pydev.blogspot.com/2007/06/why-cant-pydev-debugger-work-with.html\n",
            "to see how to restore the debug tracing back correctly.\n",
            "Call Location:\n",
            "  File \"/usr/local/lib/python3.11/dist-packages/memory_profiler.py\", line 850, in disable\n",
            "    sys.settrace(self._original_trace_function)\n",
            "\n"
          ]
        }
      ]
    },
    {
      "cell_type": "code",
      "source": [
        "# ques 17  Write a Python program to create and write a list of numbers to a file, one number per line\n",
        "\n",
        "def write_numbers_to_file(file_name, numbers):\n",
        "    try:\n",
        "        # Open the file in write mode\n",
        "        with open(file_name, 'w') as file:\n",
        "            # Write each number to the file, one per line\n",
        "            for number in numbers:\n",
        "                file.write(f\"{number}\\n\")\n",
        "        print(f\"Numbers successfully written to {file_name}\")\n",
        "    except Exception as e:\n",
        "        print(f\"Error: {e}\")\n",
        "\n",
        "# Example list of numbers\n",
        "numbers = [1, 2, 3, 4, 5, 6, 7, 8, 9, 10]\n",
        "\n",
        "# Specify the file name\n",
        "file_name = 'numbers.txt'\n",
        "\n",
        "# Write the list of numbers to the file\n",
        "write_numbers_to_file(file_name, numbers)\n"
      ],
      "metadata": {
        "colab": {
          "base_uri": "https://localhost:8080/"
        },
        "id": "UZiRIHk-pVQ6",
        "outputId": "8f8d7e2f-59a9-4b1f-d61e-c7fd82acaf23"
      },
      "execution_count": 28,
      "outputs": [
        {
          "output_type": "stream",
          "name": "stdout",
          "text": [
            "Numbers successfully written to numbers.txt\n"
          ]
        }
      ]
    },
    {
      "cell_type": "code",
      "source": [
        "# ques 18  How would you implement a basic logging setup that logs to a file with rotation after 1MB\n",
        "\n",
        "import logging\n",
        "from logging.handlers import RotatingFileHandler\n",
        "\n",
        "# Set up the logger\n",
        "logger = logging.getLogger('my_logger')\n",
        "logger.setLevel(logging.DEBUG)  # Log all messages at DEBUG level and above\n",
        "\n",
        "# Set up the rotating file handler\n",
        "log_file = 'app.log'\n",
        "max_log_size = 1 * 1024 * 1024  # 1MB\n",
        "backup_count = 3  # Keep 3 backup files (app.log.1, app.log.2, etc.)\n",
        "\n",
        "handler = RotatingFileHandler(log_file, maxBytes=max_log_size, backupCount=backup_count)\n",
        "handler.setLevel(logging.DEBUG)  # Set the log level for this handler\n",
        "\n",
        "# Set up the log format\n",
        "formatter = logging.Formatter('%(asctime)s - %(levelname)s - %(message)s')\n",
        "handler.setFormatter(formatter)\n",
        "\n",
        "# Add the handler to the logger\n",
        "logger.addHandler(handler)\n",
        "\n",
        "# Example of logging messages\n",
        "logger.debug(\"This is a debug message.\")\n",
        "logger.info(\"This is an info message.\")\n",
        "logger.warning(\"This is a warning message.\")\n",
        "logger.error(\"This is an error message.\")\n",
        "logger.critical(\"This is a critical message.\")\n"
      ],
      "metadata": {
        "colab": {
          "base_uri": "https://localhost:8080/"
        },
        "id": "7zgfh9nXp90w",
        "outputId": "361c46ba-2620-4347-dec3-f90a3b68372a"
      },
      "execution_count": 29,
      "outputs": [
        {
          "output_type": "stream",
          "name": "stderr",
          "text": [
            "DEBUG:my_logger:This is a debug message.\n",
            "INFO:my_logger:This is an info message.\n",
            "WARNING:my_logger:This is a warning message.\n",
            "ERROR:my_logger:This is an error message.\n",
            "CRITICAL:my_logger:This is a critical message.\n"
          ]
        }
      ]
    },
    {
      "cell_type": "code",
      "source": [
        "# ques 19  Write a program that handles both IndexError and KeyError using a try-except block\n",
        "\n",
        "def handle_index_and_key_error():\n",
        "    # Example list and dictionary\n",
        "    my_list = [1, 2, 3]\n",
        "    my_dict = {'a': 1, 'b': 2}\n",
        "\n",
        "    try:\n",
        "        # Accessing an invalid index in the list (will raise IndexError)\n",
        "        print(my_list[5])\n",
        "\n",
        "        # Accessing a non-existent key in the dictionary (will raise KeyError)\n",
        "        print(my_dict['c'])\n",
        "\n",
        "    except IndexError:\n",
        "        print(\"Error: Index out of range in the list.\")\n",
        "\n",
        "    except KeyError:\n",
        "        print(\"Error: Key not found in the dictionary.\")\n",
        "\n",
        "# Call the function to test\n",
        "handle_index_and_key_error()\n"
      ],
      "metadata": {
        "colab": {
          "base_uri": "https://localhost:8080/"
        },
        "id": "_Hsw0TcwqbRN",
        "outputId": "95aa43a4-d567-48e7-ec64-0052a8cbc6bf"
      },
      "execution_count": 31,
      "outputs": [
        {
          "output_type": "stream",
          "name": "stdout",
          "text": [
            "Error: Index out of range in the list.\n"
          ]
        }
      ]
    },
    {
      "cell_type": "code",
      "source": [
        "# ques 20  How would you open a file and read its contents using a context manager in Python\n",
        "\n",
        "def read_file(file_path):\n",
        "    try:\n",
        "        # Use a context manager to open the file\n",
        "        with open(file_path, 'r') as file:\n",
        "            # Read the contents of the file\n",
        "            content = file.read()\n",
        "            print(content)\n",
        "    except FileNotFoundError:\n",
        "        print(f\"Error: The file '{file_path}' does not exist.\")\n",
        "    except IOError:\n",
        "        print(f\"Error: An unexpected I/O error occurred while reading the file.\")\n",
        "\n",
        "# Specify the file path\n",
        "file_path = 'example.txt'\n",
        "\n",
        "# Call the function to read the file\n",
        "read_file(file_path)\n"
      ],
      "metadata": {
        "colab": {
          "base_uri": "https://localhost:8080/"
        },
        "id": "n7Hv7BN9qua6",
        "outputId": "2b584725-7439-496d-e575-e707253756d3"
      },
      "execution_count": 35,
      "outputs": [
        {
          "output_type": "stream",
          "name": "stdout",
          "text": [
            "Hello, world! This is a test string.\n",
            "\n"
          ]
        }
      ]
    },
    {
      "cell_type": "code",
      "source": [
        "# ques 21  Write a Python program that reads a file and prints the number of occurrences of a specific word\n",
        "\n",
        "def count_word_occurrences(file_path, target_word):\n",
        "    try:\n",
        "        # Open the file using a context manager\n",
        "        with open(file_path, 'r') as file:\n",
        "            # Initialize a counter for the occurrences\n",
        "            word_count = 0\n",
        "\n",
        "            # Iterate over each line in the file\n",
        "            for line in file:\n",
        "                # Split the line into words and count occurrences of target_word\n",
        "                word_count += line.lower().split().count(target_word.lower())\n",
        "\n",
        "            # Print the number of occurrences of the target word\n",
        "            print(f\"The word '{target_word}' appears {word_count} time(s) in the file.\")\n",
        "\n",
        "    except FileNotFoundError:\n",
        "        print(f\"Error: The file '{file_path}' does not exist.\")\n",
        "    except IOError:\n",
        "        print(\"Error: An unexpected I/O error occurred.\")\n",
        "\n",
        "# Specify the file path and the target word\n",
        "file_path = 'example.txt'\n",
        "target_word = 'python'\n",
        "\n",
        "# Call the function to count the occurrences of\n",
        "count_word_occurrences(file_path, target_word)\n"
      ],
      "metadata": {
        "colab": {
          "base_uri": "https://localhost:8080/"
        },
        "id": "ZjXVy86KrJIm",
        "outputId": "41fbcc2e-9dc1-499b-8744-34d34c7a4f26"
      },
      "execution_count": 39,
      "outputs": [
        {
          "output_type": "stream",
          "name": "stdout",
          "text": [
            "The word 'python' appears 0 time(s) in the file.\n"
          ]
        }
      ]
    },
    {
      "cell_type": "code",
      "source": [
        "# ques 22  How can you check if a file is empty before attempting to read its content\n",
        "\n",
        "import os\n",
        "\n",
        "def read_file_if_not_empty(file_path):\n",
        "    try:\n",
        "        # Check if the file exists and is not empty\n",
        "        if os.path.exists(file_path) and os.path.getsize(file_path) > 0:\n",
        "            # Open and read the file\n",
        "            with open(file_path, 'r') as file:\n",
        "                content = file.read()\n",
        "                print(\"File content:\")\n",
        "                print(content)\n",
        "        else:\n",
        "            print(\"The file is empty or does not exist.\")\n",
        "\n",
        "    except FileNotFoundError:\n",
        "        print(f\"Error: The file '{file_path}' does not exist.\")\n",
        "    except IOError:\n",
        "        print(\"Error: An unexpected I/O error occurred.\")\n",
        "\n",
        "# Specify the file path\n",
        "file_path = 'example.txt'\n",
        "\n",
        "# Call the function to check and read the file\n",
        "read_file_if_not_empty(file_path)\n"
      ],
      "metadata": {
        "colab": {
          "base_uri": "https://localhost:8080/"
        },
        "id": "YsXWXa1yrmP2",
        "outputId": "348cc8f1-dc72-4497-d18c-b1ae02051c7b"
      },
      "execution_count": 40,
      "outputs": [
        {
          "output_type": "stream",
          "name": "stdout",
          "text": [
            "File content:\n",
            "Hello, world! This is a test string.\n",
            "\n"
          ]
        }
      ]
    },
    {
      "cell_type": "code",
      "source": [
        "#ques 23  Write a Python program that writes to a log file when an error occurs during file handling\n",
        "\n",
        "import logging\n",
        "logging.basicConfig(\n",
        "    filename='file_errors.log',\n",
        "    level=logging.ERROR,\n",
        "    format='%(asctime)s - %(levelname)s - %(message)s'\n",
        "\n",
        ")\n",
        "\n",
        "def read_file(file_path):\n",
        "    try:\n",
        "        with open(file_path, 'r') as file:\n",
        "            content = file.read()\n",
        "            print(content)\n",
        "    except FileNotFoundError:\n",
        "        logging.error(f\"File '{file_path}' not found.\")\n",
        "        print(f\"Error: The file '{file_path}' does not exist.\")\n",
        "    except IOError as e:\n",
        "        logging.error(f\"Error reading file '{file_path}': {e}\")\n",
        "        print(f\"Error: An unexpected I/O error occurred while reading the file.\")\n",
        "\n",
        "def write_to_file(file_path, data):\n",
        "    try:\n",
        "        with open(file_path, 'w') as file:\n",
        "            file.write(data)\n",
        "            print(f\"Data written to '{file_path}' successfully.\")\n",
        "    except IOError as e:\n",
        "        logging.error(f\"Error writing to file '{file_path}': {e}\")\n",
        "        print(f\"Error: Could not write to the file.\")\n",
        "file_path_to_read = 'non_existent_file.txt'\n",
        "file_path_to_write = 'example.txt'\n",
        "read_file(file_path_to_read)\n",
        "write_to_file(file_path_to_write, \"This is a new line of text.\")\n"
      ],
      "metadata": {
        "colab": {
          "base_uri": "https://localhost:8080/"
        },
        "id": "dgkyc1Ex3JyB",
        "outputId": "23a25ed5-e625-487a-a5e4-38cc30494486"
      },
      "execution_count": 77,
      "outputs": [
        {
          "output_type": "stream",
          "name": "stderr",
          "text": [
            "ERROR:root:File 'non_existent_file.txt' not found.\n"
          ]
        },
        {
          "output_type": "stream",
          "name": "stdout",
          "text": [
            "Error: The file 'non_existent_file.txt' does not exist.\n",
            "Data written to 'example.txt' successfully.\n"
          ]
        }
      ]
    }
  ]
}